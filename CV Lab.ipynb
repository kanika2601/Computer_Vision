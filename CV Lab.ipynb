{
 "cells": [
  {
   "cell_type": "code",
   "execution_count": 1,
   "id": "6efaa2c8",
   "metadata": {},
   "outputs": [],
   "source": [
    "import numpy as np\n",
    "import cv2\n",
    "from skimage.feature import hog\n",
    "from sklearn.cluster import KMeans\n",
    "from sklearn.svm import SVC\n",
    "from sklearn.metrics import accuracy_score\n",
    "from sklearn.preprocessing import StandardScaler\n",
    "from sklearn.pipeline import make_pipeline\n",
    "from sklearn.model_selection import train_test_split"
   ]
  },
  {
   "cell_type": "code",
   "execution_count": null,
   "id": "848bd83b",
   "metadata": {},
   "outputs": [],
   "source": [
    "from keras.datasets import cifar10\n",
    "from skimage.feature import hog\n",
    "import tensorflow as tf\n",
    "\n",
    "# Load the CIFAR-10 dataset\n",
    "(X_train, y_train), (X_test, y_test) = cifar10.load_data()\n",
    "\n",
    "# Preprocess the dataset\n",
    "# Reshape images to 1D array\n",
    "X_train_flat = X_train.reshape(X_train.shape[0], -1)\n",
    "X_test_flat = X_test.reshape(X_test.shape[0], -1)\n",
    "\n",
    "# Step 2: Feature Extraction (HOG)\n",
    "def extract_hog_features(images):\n",
    "    hog_features = []\n",
    "    for image in images:\n",
    "        # Compute HOG features\n",
    "        features = hog(image, orientations=9, pixels_per_cell=(8, 8),\n",
    "                       cells_per_block=(2, 2), transform_sqrt=True, block_norm=\"L2-Hys\")\n",
    "        hog_features.append(features)\n",
    "    return np.array(hog_features)\n",
    "\n",
    "X_train_hog = extract_hog_features(X_train)\n",
    "X_test_hog = extract_hog_features(X_test)\n",
    "\n",
    "# Step 3: Clustering (K-means)\n",
    "def create_vocabulary(features, k):\n",
    "    kmeans = KMeans(n_clusters=k)\n",
    "    kmeans.fit(features)\n",
    "    return kmeans.cluster_centers_\n",
    "\n",
    "vocabulary = create_vocabulary(X_train_hog, k=100)  # Example: Use 100 clusters\n",
    "\n",
    "# Step 4: Vector Quantization\n",
    "def create_histograms(features, vocabulary):\n",
    "    histograms = []\n",
    "    for feature in features:\n",
    "        distances = np.linalg.norm(vocabulary - feature.reshape(1, -1), axis=1)\n",
    "        histogram = np.zeros(len(vocabulary))\n",
    "        histogram[np.argmin(distances)] = 1\n",
    "        histograms.append(histogram)\n",
    "    return np.array(histograms)\n",
    "\n",
    "X_train_histograms = create_histograms(X_train_hog, vocabulary)\n",
    "X_test_histograms = create_histograms(X_test_hog, vocabulary)\n",
    "\n",
    "# Step 5: Classification\n",
    "classifier = make_pipeline(StandardScaler(), SVC(kernel='linear'))\n",
    "classifier.fit(X_train_histograms, y_train)\n",
    "\n",
    "# Step 6: Evaluation\n",
    "y_pred = classifier.predict(X_test_histograms)\n",
    "accuracy = accuracy_score(y_test, y_pred)\n",
    "print(\"Accuracy:\", accuracy)\n"
   ]
  },
  {
   "cell_type": "code",
   "execution_count": null,
   "id": "647043ad",
   "metadata": {},
   "outputs": [],
   "source": []
  },
  {
   "cell_type": "code",
   "execution_count": null,
   "id": "a888bfa0",
   "metadata": {},
   "outputs": [],
   "source": []
  },
  {
   "cell_type": "code",
   "execution_count": null,
   "id": "7f56f4de",
   "metadata": {},
   "outputs": [],
   "source": []
  }
 ],
 "metadata": {
  "kernelspec": {
   "display_name": "Python 3 (ipykernel)",
   "language": "python",
   "name": "python3"
  },
  "language_info": {
   "codemirror_mode": {
    "name": "ipython",
    "version": 3
   },
   "file_extension": ".py",
   "mimetype": "text/x-python",
   "name": "python",
   "nbconvert_exporter": "python",
   "pygments_lexer": "ipython3",
   "version": "3.11.5"
  }
 },
 "nbformat": 4,
 "nbformat_minor": 5
}
